{
 "cells": [
  {
   "cell_type": "markdown",
   "metadata": {
    "tags": []
   },
   "source": [
    "# Pixie: cell clustering notebook"
   ]
  },
  {
   "cell_type": "markdown",
   "metadata": {},
   "source": [
    "NOTE: this notebook should be run after `1_Pixie_Cluster_Pixels.ipynb`"
   ]
  },
  {
   "cell_type": "code",
   "execution_count": null,
   "metadata": {},
   "outputs": [],
   "source": [
    "# Add directory above current directory to path\n",
    "import sys; sys.path.append('..')"
   ]
  },
  {
   "cell_type": "code",
   "execution_count": null,
   "metadata": {
    "tags": [
     "import"
    ]
   },
   "outputs": [],
   "source": [
    "import json\n",
    "import os\n",
    "\n",
    "import feather\n",
    "import random\n",
    "import matplotlib.pyplot as plt\n",
    "import numpy as np\n",
    "import pandas as pd\n",
    "import scipy.stats as stats\n",
    "import seaborn as sns\n",
    "import xarray as xr\n",
    "from matplotlib import rc_file_defaults\n",
    "from alpineer import io_utils, load_utils\n",
    "\n",
    "from ark.analysis import visualize\n",
    "from ark.phenotyping import (cell_cluster_utils,\n",
    "                             cell_som_clustering,\n",
    "                             cell_meta_clustering,\n",
    "                             weighted_channel_comp)\n",
    "from ark.utils import data_utils, example_dataset, plot_utils\n",
    "from ark.utils.metacluster_remap_gui import (MetaClusterData, MetaClusterGui,\n",
    "                                             colormap_helper,\n",
    "                                             metaclusterdata_from_files)"
   ]
  },
  {
   "cell_type": "code",
   "execution_count": null,
   "metadata": {
    "tags": [
     "parameters"
    ]
   },
   "outputs": [],
   "source": [
    "SEED = 42\n",
    "DATASET = \"IMMUcan_2022_CancerExample\"\n",
    "RESULTS_DIR = 'Blur=2'"
   ]
  },
  {
   "cell_type": "code",
   "execution_count": null,
   "metadata": {},
   "outputs": [],
   "source": [
    "CONFIG_PATH = f\"/home/dani/Documents/Thesis/Methods/IMCBenchmark/output/{DATASET}/pixie/{RESULTS_DIR}/config.json\"\n",
    "\n",
    "# load the params\n",
    "with open(CONFIG_PATH) as f:\n",
    "    pixie_config = json.load(f)\n",
    "    \n",
    "# assign the params to variables\n",
    "input_dir = pixie_config['input_dir']\n",
    "output_dir = pixie_config['output_dir']\n",
    "fovs = pixie_config['fovs']\n",
    "\n",
    "channels = pixie_config['channels']\n",
    "type_channels = pixie_config['type_channels']\n",
    "\n",
    "random.seed(SEED)\n",
    "validation_fovs = random.sample(fovs, 4)\n",
    "\n",
    "print(f'Data Folder: {input_dir}\\n')\n",
    "print(f'Output Folder: {output_dir}\\n')\n",
    "print(f'FOVS: {fovs}\\n')\n",
    "print(f'FOVS for validation: {validation_fovs}\\n')\n",
    "print(f'Channels to use: {channels}\\n')"
   ]
  },
  {
   "cell_type": "markdown",
   "metadata": {},
   "source": [
    "The following params are loaded from general config:\n",
    "* `input_dir`: directory containing raw data for PIXIE\n",
    "* `output_dir`: directory containing current experiment with PIXIE\n",
    "* `fovs`: subset of fovs used for pixel/cell clustering\n",
    "* `validation_fovs`: subset of fovs used for validating pixel/cell clustering\n",
    "* `channels`: subset of channels used for pixel/cell clustering"
   ]
  },
  {
   "cell_type": "markdown",
   "metadata": {
    "tags": []
   },
   "source": [
    "## 1: Load parameters for cell clustering (saved during `1_Pixie_Cluster_Pixels.ipynb`)"
   ]
  },
  {
   "cell_type": "code",
   "execution_count": null,
   "metadata": {
    "tags": [
     "base_dir"
    ]
   },
   "outputs": [],
   "source": [
    "# define the output directory of the pixel clustering\n",
    "pixel_output_dir = 'pixel_output'\n",
    "\n",
    "# define the base output cell folder\n",
    "cell_output_dir = 'cell_output'\n",
    "if not os.path.exists(os.path.join(output_dir, cell_output_dir)):\n",
    "    os.mkdir(os.path.join(output_dir, cell_output_dir))"
   ]
  },
  {
   "cell_type": "code",
   "execution_count": null,
   "metadata": {},
   "outputs": [],
   "source": [
    "# define the name of the directory with the extracted image data\n",
    "tiff_dir = os.path.join(input_dir, \"images\")\n",
    "\n",
    "# define the name of the directory with segmentation masks\n",
    "masks_dir = os.path.join(input_dir, \"masks\")\n",
    "\n",
    "# define the cell table path\n",
    "cell_table_path = os.path.join(input_dir, 'cells.csv')\n",
    "\n",
    "# define suffix of the segmentation mask files\n",
    "seg_suffix = '_whole_cell.tiff'"
   ]
  },
  {
   "cell_type": "markdown",
   "metadata": {},
   "source": [
    "The following parameters are defined:\n",
    "* `tiff_dir`: path to the directory containing your single channel tiff images\n",
    "* `masks_dir`: path to the directory containing your segmented images \n",
    "* `cell_table_path`: path to the cell table where each row in the table is one cell, must contain `fov`, `label`, and `cell_size` columns.\n",
    "* `seg_suffix`: suffix plus the file extension of the segmented images for each FOV"
   ]
  },
  {
   "cell_type": "code",
   "execution_count": null,
   "metadata": {
    "tags": [
     "param_load"
    ]
   },
   "outputs": [],
   "source": [
    "# define the name of the cell clustering params file\n",
    "cell_clustering_params_name = 'cell_clustering_params.json'\n",
    "\n",
    "# load the pixel clustering params\n",
    "with open(os.path.join(output_dir, pixel_output_dir, cell_clustering_params_name)) as fh:\n",
    "    cell_clustering_params = json.load(fh)\n",
    "    \n",
    "# assign the params to variables\n",
    "pixel_data_dir = cell_clustering_params['pixel_data_dir']\n",
    "pc_chan_avg_som_cluster_name = cell_clustering_params['pc_chan_avg_som_cluster_name']\n",
    "pc_chan_avg_meta_cluster_name = cell_clustering_params['pc_chan_avg_meta_cluster_name']"
   ]
  },
  {
   "cell_type": "markdown",
   "metadata": {},
   "source": [
    "The following params are loaded from previous pixel clustering workflow:\n",
    "\n",
    "* `pixel_data_dir`: name of the directory containing pixel data with the pixel SOM and meta cluster assignments\n",
    "* `pc_chan_avg_som_cluster_name`: name of the file containing the average channel expression per pixel SOM cluster, used for the visualization of weighted channel average per cell\n",
    "* `pc_chan_avg_meta_cluster_name`: name of the file containing the average channel expression per pixel meta cluster, used for the visualization of weighted channel average per cell"
   ]
  },
  {
   "cell_type": "markdown",
   "metadata": {},
   "source": [
    "## 2: Preprocess"
   ]
  },
  {
   "cell_type": "markdown",
   "metadata": {},
   "source": [
    "Set a prefix to be applied to all data directories/files created during cell clustering. If the prefix is not set, a default of the datetime at the start of the run is used."
   ]
  },
  {
   "cell_type": "markdown",
   "metadata": {},
   "source": [
    "The following folders/files will be created:\n",
    "\n",
    "* `cell_som_weights_name`: file name to store the cell SOM weights\n",
    "* `cluster_counts_name`: file name to store the counts of each pixel cluster per cell\n",
    "* `cluster_counts_size_norm_name`: same as above, except with each value normalized by the respective cell's size. The data will also contain the cell SOM and meta cluster labels assigned.\n",
    "* `weighted_cell_channel_name`: file name to store the weighted cell channel expression for each cell. Refer to <a href=https://ark-analysis.readthedocs.io/en/latest/_markdown/ark.phenotyping.html#ark.phenotyping.cell_cluster_utils.compute_p2c_weighted_channel_avg>cell channel weighting docs</a> for how the weighting is computed.\n",
    "* `cell_som_cluster_count_avg_name`: file name to store the average number of pixel clusters per cell SOM cluster\n",
    "* `cell_meta_cluster_count_avg_name`: same as above for cell meta clusters\n",
    "* `cell_som_cluster_channel_avg_name`: file name to store the average weighted channel expression per cell SOM cluster\n",
    "* `cell_meta_cluster_channel_avg_name`: same as above for cell meta clusters\n",
    "* `cell_meta_cluster_remap_name`: file name to store the SOM cluster to meta cluster manual mappings created using the GUI below"
   ]
  },
  {
   "cell_type": "code",
   "execution_count": null,
   "metadata": {
    "tags": [
     "cell_cluster_files"
    ]
   },
   "outputs": [],
   "source": [
    "# define the paths to cell clustering files, explicitly set the variables to use custom names\n",
    "\n",
    "def get_method_config(pixel_cluster_col):\n",
    "    config = {}\n",
    "    \n",
    "    config['pixel_cluster_col'] = pixel_cluster_col\n",
    "    \n",
    "    # depending on which pixel_cluster_col is selected, choose the pixel channel average table accordingly\n",
    "    if pixel_cluster_col == 'pixel_som_cluster':\n",
    "        config['pc_chan_avg_name'] = pc_chan_avg_som_cluster_name\n",
    "        config['method_dir'] = 'from_som'\n",
    "    elif pixel_cluster_col == 'pixel_meta_cluster_rename':\n",
    "        config['pc_chan_avg_name'] = pc_chan_avg_meta_cluster_name\n",
    "        config['method_dir'] = 'from_meta'\n",
    "        \n",
    "    method_dir = config['method_dir']\n",
    "    if not os.path.exists(os.path.join(output_dir, cell_output_dir, method_dir)):\n",
    "        os.mkdir(os.path.join(output_dir, cell_output_dir, method_dir))\n",
    "    \n",
    "    config[\"cell_som_weights_name\"] = os.path.join(cell_output_dir, method_dir, 'cell_som_weights.feather')\n",
    "    config[\"cluster_counts_name\"] = os.path.join(cell_output_dir, method_dir, 'cluster_counts.feather')\n",
    "    config[\"cluster_counts_size_norm_name\"] = os.path.join(cell_output_dir, method_dir, 'cluster_counts_size_norm.feather')\n",
    "    config[\"weighted_cell_channel_name\"] = os.path.join(cell_output_dir, method_dir, 'weighted_cell_channel.feather')\n",
    "    config[\"cell_som_cluster_count_avg_name\"] = os.path.join(cell_output_dir, method_dir, 'cell_som_cluster_count_avg.csv')\n",
    "    config[\"cell_meta_cluster_count_avg_name\"] = os.path.join(cell_output_dir, method_dir, 'cell_meta_cluster_count_avg.csv')\n",
    "    config[\"cell_som_cluster_channel_avg_name\"] = os.path.join(cell_output_dir, method_dir, 'cell_som_cluster_channel_avg.csv')\n",
    "    config[\"cell_meta_cluster_channel_avg_name\"] = os.path.join(cell_output_dir, method_dir, 'cell_meta_cluster_channel_avg.csv')\n",
    "    config[\"cell_meta_cluster_remap_name\"] = os.path.join(cell_output_dir, method_dir, 'cell_meta_cluster_mapping.csv')\n",
    "    \n",
    "    return config\n",
    "\n",
    "\n",
    "# from_som_config = get_method_config('pixel_som_cluster')\n",
    "from_meta_config = get_method_config('pixel_meta_cluster_rename')\n",
    "\n",
    "configs = [from_meta_config]"
   ]
  },
  {
   "cell_type": "code",
   "execution_count": null,
   "metadata": {
    "tags": [
     "generate_som_input_data"
    ]
   },
   "outputs": [],
   "source": [
    "for config in configs:\n",
    "    # generate the preprocessed data before \n",
    "    cluster_counts, cluster_counts_size_norm = cell_cluster_utils.create_c2pc_data(\n",
    "        fovs, os.path.join(output_dir, pixel_data_dir), cell_table_path, config['pixel_cluster_col']\n",
    "    )\n",
    "    \n",
    "    config['cluster_counts'] = cluster_counts\n",
    "    config['cluster_counts_size_norm'] = cluster_counts_size_norm\n",
    "\n",
    "    # define the count columns found in cluster_counts_norm\n",
    "    cell_som_cluster_cols = cluster_counts_size_norm.filter(\n",
    "        regex=f'{config[\"pixel_cluster_col\"]}.*'\n",
    "    ).columns.values\n",
    "    \n",
    "    config['cell_som_cluster_cols'] = cell_som_cluster_cols\n",
    "\n",
    "    # write the unnormalized input data to cluster_counts_name for reference\n",
    "    feather.write_dataframe(\n",
    "        cluster_counts,\n",
    "        os.path.join(output_dir, config['cluster_counts_name']),\n",
    "        compression='uncompressed'\n",
    "    )"
   ]
  },
  {
   "cell_type": "markdown",
   "metadata": {},
   "source": [
    "Generate the weighted cell channel expression file. This data will be needed to compute the weighted average channel expression per cell cluster (the data stored in `cell_som_cluster_channel_avg_name` and `cell_meta_cluster_channel_avg_name`). See documentation of `compute_p2c_weighted_channel_avg` for how weighted cell channel average is computed: <a href=https://ark-analysis.readthedocs.io/en/latest/_markdown/ark.phenotyping.html#ark.phenotyping.cell_cluster_utils.compute_p2c_weighted_channel_avg>cell channel weighting docs</a>."
   ]
  },
  {
   "cell_type": "code",
   "execution_count": null,
   "metadata": {
    "tags": [
     "generate_weighted_channel_data"
    ]
   },
   "outputs": [],
   "source": [
    "for config in configs:\n",
    "    # generate the weighted cell channel expression data\n",
    "    pixel_channel_avg = pd.read_csv(os.path.join(output_dir, config['pc_chan_avg_name']))\n",
    "    weighted_cell_channel = weighted_channel_comp.compute_p2c_weighted_channel_avg(\n",
    "        pixel_channel_avg,\n",
    "        channels,\n",
    "        config['cluster_counts'],\n",
    "        fovs=fovs,\n",
    "        pixel_cluster_col=config['pixel_cluster_col']\n",
    "    )\n",
    "    \n",
    "    config['weighted_cell_channel'] = weighted_cell_channel\n",
    "\n",
    "    # write the data to weighted_cell_channel_name\n",
    "    feather.write_dataframe(\n",
    "        weighted_cell_channel,\n",
    "        os.path.join(output_dir, config['weighted_cell_channel_name']),\n",
    "        compression='uncompressed'\n",
    "    )"
   ]
  },
  {
   "cell_type": "markdown",
   "metadata": {},
   "source": [
    "## 3: Cell clustering"
   ]
  },
  {
   "cell_type": "markdown",
   "metadata": {},
   "source": [
    "### 3.1: Train cell SOM"
   ]
  },
  {
   "cell_type": "markdown",
   "metadata": {},
   "source": [
    "Train the cell SOM on the size-normalized number of pixel clusters per cell (the data stored in `cluster_counts_size_norm_name`). Training is done using the self-organizing map (SOM) algorithm. Note that each of the pixel SOM/meta cluster columns are normalized by their 99.9% value prior to training.\n",
    "\n",
    "For a full set of parameters you can customize for `train_cell_som`, please consult <a href=https://ark-analysis.readthedocs.io/en/latest/_markdown/ark.phenotyping.html#ark.phenotyping.cell_cluster_utils.train_cell_som>cell training docs</a>."
   ]
  },
  {
   "cell_type": "code",
   "execution_count": null,
   "metadata": {
    "tags": [
     "train_cell_som"
    ]
   },
   "outputs": [],
   "source": [
    "for config in configs:\n",
    "    # create the cell SOM weights\n",
    "    cell_pysom = cell_som_clustering.train_cell_som(\n",
    "        fovs,\n",
    "        output_dir,\n",
    "        cell_table_path=cell_table_path,\n",
    "        cell_som_cluster_cols=config['cell_som_cluster_cols'],\n",
    "        cell_som_input_data=config['cluster_counts_size_norm'],\n",
    "        som_weights_name=config['cell_som_weights_name'],\n",
    "        num_passes=1,\n",
    "        seed=SEED\n",
    "    )\n",
    "    \n",
    "    config['cell_pysom'] = cell_pysom"
   ]
  },
  {
   "cell_type": "markdown",
   "metadata": {},
   "source": [
    "### 3.2: Assign cell SOM clusters"
   ]
  },
  {
   "cell_type": "markdown",
   "metadata": {},
   "source": [
    "Use the weights learned from `train_cell_som` to assign cell clusters to the dataset. Note that this is done on the size-normalized pixel cluster counts table. As with `train_pixel_som`, each of the columns are normalized by their 99.9% value prior to assigning a cell SOM cluster label.\n",
    "\n",
    "`generate_som_avg_files` will compute the average number of pixel clusters per cell SOM cluster, as well as the number of cells in each cell SOM cluster (the data placed in `cell_som_cluster_count_avg_name`). This is needed for cell consensus clustering."
   ]
  },
  {
   "cell_type": "code",
   "execution_count": null,
   "metadata": {
    "tags": [
     "cluster_cell_data"
    ]
   },
   "outputs": [],
   "source": [
    "for config in configs:\n",
    "    # use cell SOM weights to assign cell clusters\n",
    "    cluster_counts_size_norm = cell_som_clustering.cluster_cells(\n",
    "        output_dir,\n",
    "        config['cell_pysom'],\n",
    "        cell_som_cluster_cols=config['cell_som_cluster_cols']\n",
    "    )\n",
    "    \n",
    "    config['cluster_counts_size_norm'] = cluster_counts_size_norm\n",
    "\n",
    "    # generate the SOM cluster summary files\n",
    "    cell_som_clustering.generate_som_avg_files(\n",
    "        output_dir,\n",
    "        config['cluster_counts_size_norm'],\n",
    "        cell_som_cluster_cols=config['cell_som_cluster_cols'],\n",
    "        cell_som_expr_col_avg_name=config['cell_som_cluster_count_avg_name']\n",
    "    )"
   ]
  },
  {
   "cell_type": "markdown",
   "metadata": {},
   "source": [
    "### 3.3: Run cell consensus clustering"
   ]
  },
  {
   "cell_type": "markdown",
   "metadata": {},
   "source": [
    "Use consensus hierarchical clustering to cluster cell SOM clusters into a user-defined number of meta clusters. The consensus clusters are trained on the average number of pixel clusters across all cell SOM clusters (the data stored in `cell_som_cluster_count_avg_name`). These values are z-scored and capped at the value specified in the `cap` argument prior to consensus clustering. This helps improve meta clustering performance.\n",
    "\n",
    "After consensus clustering, the following are computed by `generate_meta_avg_files`:\n",
    "\n",
    "* The average number of pixel clusters across all cell meta clusters, and the number of cells per meta cluster (the data placed in `cell_meta_cluster_count_avg_name`)\n",
    "* The meta cluster mapping for each cell SOM cluster in `cell_som_cluster_count_avg_name` (data is resaved, same data except with an associated meta cluster column)\n",
    "\n",
    "`generate_wc_avg_files` also creates the following:\n",
    "\n",
    "* The weighted channel average across all cell clusters (the data placed in `cell_som_cluster_channel_avg_name` and `cell_meta_cluster_channel_avg_name`). This will be done for both `'cell_som_cluster'` and `'cell_meta_cluster'`.\n",
    "\n",
    "For a full set of parameters you can customize for `cell_consensus_cluster`, please consult <a href=https://ark-analysis.readthedocs.io/en/latest/_markdown/ark.phenotyping.html#ark.phenotyping.cell_cluster_utils.cell_consensus_cluster>cell consensus clustering docs</a>"
   ]
  },
  {
   "cell_type": "markdown",
   "metadata": {},
   "source": [
    "* `max_k`: the number of consensus clusters desired\n",
    "* `cap`: used to clip z-scored values prior to consensus clustering (in the range `[-cap, cap]`)"
   ]
  },
  {
   "cell_type": "code",
   "execution_count": null,
   "metadata": {
    "tags": [
     "cell_consensus_cluster",
     "cell_mantis_project"
    ]
   },
   "outputs": [],
   "source": [
    "max_k = pixie_config['cells']['meta_max_k']\n",
    "cap = pixie_config['cells']['meta_cap']\n",
    "print(f'For metaclustering using max_k: {max_k} and z-score cap: [-{cap}, +{cap}].\\n')\n",
    "\n",
    "for config in configs:\n",
    "    # run hierarchical clustering using average count of pixel clusters per cell SOM cluster\n",
    "    cell_cc, cluster_counts_size_norm = cell_meta_clustering.cell_consensus_cluster(\n",
    "        output_dir,\n",
    "        cell_som_cluster_cols=config['cell_som_cluster_cols'],\n",
    "        cell_som_input_data=config['cluster_counts_size_norm'],\n",
    "        cell_som_expr_col_avg_name=config['cell_som_cluster_count_avg_name'],\n",
    "        max_k=max_k,\n",
    "        cap=cap,\n",
    "        seed=SEED,\n",
    "    )\n",
    "    \n",
    "    config['cell_cc'] = cell_cc\n",
    "    config['cluster_counts_size_norm'] = cluster_counts_size_norm\n",
    "\n",
    "    # generate the meta cluster summary files\n",
    "    cell_meta_clustering.generate_meta_avg_files(\n",
    "        output_dir,\n",
    "        config['cell_cc'],\n",
    "        cell_som_cluster_cols=config['cell_som_cluster_cols'],\n",
    "        cell_som_input_data=config['cluster_counts_size_norm'],\n",
    "        cell_som_expr_col_avg_name=config['cell_som_cluster_count_avg_name'],\n",
    "        cell_meta_expr_col_avg_name=config['cell_meta_cluster_count_avg_name']\n",
    "    )\n",
    "\n",
    "    # generate weighted channel summary files\n",
    "    weighted_channel_comp.generate_wc_avg_files(\n",
    "        fovs,\n",
    "        channels,\n",
    "        output_dir,\n",
    "        config['cell_cc'],\n",
    "        cell_som_input_data=config['cluster_counts_size_norm'],\n",
    "        weighted_cell_channel_name=config['weighted_cell_channel_name'],\n",
    "        cell_som_cluster_channel_avg_name=config['cell_som_cluster_channel_avg_name'],\n",
    "        cell_meta_cluster_channel_avg_name=config['cell_meta_cluster_channel_avg_name']\n",
    "    )"
   ]
  },
  {
   "cell_type": "markdown",
   "metadata": {},
   "source": [
    "## 4: Visualize results"
   ]
  },
  {
   "cell_type": "code",
   "execution_count": null,
   "metadata": {},
   "outputs": [],
   "source": [
    "config = from_meta_config"
   ]
  },
  {
   "cell_type": "markdown",
   "metadata": {},
   "source": [
    "### 4.1: Interactive adjustments to relabel cell meta clusters"
   ]
  },
  {
   "cell_type": "markdown",
   "metadata": {},
   "source": [
    "The visualization shows the z-scored average pixel cluster count expression per cell SOM and meta cluster. The heatmaps are faceted by cell SOM clusters on the left and cell meta clusters on the right.\n",
    "\n",
    "## Usage\n",
    "\n",
    "### Quickstart\n",
    "- **Select**: Left Click\n",
    "- **Remap**: **New metacluster button** or Right Click\n",
    "- **Edit Metacluster Name**: Textbox at bottom right of the heatmaps.\n",
    "\n",
    "### Selection and Remapping details\n",
    "- To select a SOM cluster, click on its respective position in the **selected** bar. Click on it again to deselect.\n",
    "- To select a meta cluster, click on its corresponding color in the **metacluster** bar. Click on it again to deselect.\n",
    "- To remap the selected clusters, click the **New metacluster** button (alternatively, right click anywhere). Note that remapping an entire metacluster deletes it.\n",
    "- To clear the selected SOM/meta clusters, use the **Clear Selection** button.\n",
    "- **After remapping a meta cluster, make sure to deselect the newly created one to prevent unwanted combinations.**\n",
    "\n",
    "### Other features and notes\n",
    "- You will likely need to zoom out to see the entire visualization. To toggle Zoom, use Ctrl -/Ctrl + on Windows or ⌘ +/⌘ - on Mac.\n",
    "- The bars at the top show the number of cells in each SOM cluster.\n",
    "- The text box at the bottom right allows you to rename a particular meta cluster. This can be useful as remapping may cause inconsistent numbering.\n",
    "- Adjust the z-score limit using the slider on the bottom left to adjust your dynamic range.\n",
    "- When meta clusters are combined or a meta cluster is renamed, the change is immediately saved to `cell_meta_cluster_remap_name`.\n",
    "- **You won't be able to advance until you've clicked `New metacluster` or renamed a meta cluster at least once. If you do not want to make changes, just click `New metacluster` to trigger a save before continuing.**"
   ]
  },
  {
   "cell_type": "code",
   "execution_count": null,
   "metadata": {},
   "outputs": [],
   "source": [
    "%matplotlib widget\n",
    "rc_file_defaults()\n",
    "plt.ion()\n",
    "\n",
    "cell_mcd = metaclusterdata_from_files(\n",
    "    os.path.join(output_dir, config['cell_som_cluster_count_avg_name']),\n",
    "    cluster_type='cell',\n",
    "    prefix_trim=config['pixel_cluster_col'] + '_'\n",
    ")\n",
    "cell_mcd.output_mapping_filename = os.path.join(output_dir, config['cell_meta_cluster_remap_name'])\n",
    "cell_mcg = MetaClusterGui(cell_mcd, width=9)"
   ]
  },
  {
   "cell_type": "code",
   "execution_count": null,
   "metadata": {},
   "outputs": [],
   "source": [
    "# rename the meta cluster values in the cell dataset\n",
    "cluster_counts_size_norm = cell_meta_clustering.apply_cell_meta_cluster_remapping(\n",
    "    output_dir,\n",
    "    from_meta_config['cluster_counts_size_norm'],\n",
    "    from_meta_config['cell_meta_cluster_remap_name']\n",
    ")\n",
    "\n",
    "from_meta_config['cluster_counts_size_norm'] = cluster_counts_size_norm\n",
    "\n",
    "# recompute the mean column expression per meta cluster and apply these new names to the SOM cluster average data\n",
    "cell_meta_clustering.generate_remap_avg_count_files(\n",
    "    output_dir,\n",
    "    from_meta_config['cluster_counts_size_norm'],\n",
    "    from_meta_config['cell_meta_cluster_remap_name'],\n",
    "    from_meta_config['cell_som_cluster_cols'],\n",
    "    from_meta_config['cell_som_cluster_count_avg_name'],\n",
    "    from_meta_config['cell_meta_cluster_count_avg_name'],\n",
    ")\n",
    "\n",
    "# recompute the mean weighted channel expression per meta cluster and apply these new names to the SOM channel average data\n",
    "weighted_channel_comp.generate_remap_avg_wc_files(\n",
    "    fovs,\n",
    "    channels,\n",
    "    output_dir,\n",
    "    from_meta_config['cluster_counts_size_norm'],\n",
    "    from_meta_config['cell_meta_cluster_remap_name'],\n",
    "    from_meta_config['weighted_cell_channel_name'],\n",
    "    from_meta_config['cell_som_cluster_channel_avg_name'],\n",
    "    from_meta_config['cell_meta_cluster_channel_avg_name']\n",
    ")"
   ]
  },
  {
   "cell_type": "code",
   "execution_count": null,
   "metadata": {},
   "outputs": [],
   "source": [
    "raw_cmap, renamed_cmap = colormap_helper.generate_meta_cluster_colormap_dict(\n",
    "    cell_mcd.output_mapping_filename,\n",
    "    cell_mcg.im_cl.cmap,\n",
    "    cluster_type='cell'\n",
    ")"
   ]
  },
  {
   "cell_type": "markdown",
   "metadata": {},
   "source": [
    "### 4.2: Weighted cell SOM cluster average heatmap over channels (z-scored) - from pixel META config"
   ]
  },
  {
   "cell_type": "code",
   "execution_count": null,
   "metadata": {},
   "outputs": [],
   "source": [
    "weighted_channel_comp.generate_weighted_channel_avg_heatmap(\n",
    "    os.path.join(output_dir, from_meta_config['cell_som_cluster_channel_avg_name']),\n",
    "    'cell_som_cluster',\n",
    "    type_channels,\n",
    "    raw_cmap,\n",
    "    renamed_cmap\n",
    ")"
   ]
  },
  {
   "cell_type": "markdown",
   "metadata": {},
   "source": [
    "### 4.3: Weighted cell meta cluster average heatmap over channels (z-scored) - from pixel META config"
   ]
  },
  {
   "cell_type": "code",
   "execution_count": null,
   "metadata": {},
   "outputs": [],
   "source": [
    "weighted_channel_comp.generate_weighted_channel_avg_heatmap(\n",
    "    os.path.join(output_dir, from_meta_config['cell_meta_cluster_channel_avg_name']),\n",
    "    'cell_meta_cluster_rename',\n",
    "    type_channels,\n",
    "    raw_cmap,\n",
    "    renamed_cmap\n",
    ")"
   ]
  },
  {
   "cell_type": "markdown",
   "metadata": {},
   "source": [
    "### 4.4: Generate cell phenotype maps - from pixel META config\n",
    "\n",
    "Generate cell phenotype maps, in which each pixel in the image corresponds to its cell meta cluster. Run this cell if you wish to create cell cluster mask images for downstream analysis. Note that because each pixel value corresponds to a metacluster number, masks likely will not render with colors in image viewer software."
   ]
  },
  {
   "cell_type": "code",
   "execution_count": null,
   "metadata": {},
   "outputs": [],
   "source": [
    "# generate and save the cell cluster masks for each fov in subset_cell_fovs\n",
    "data_utils.generate_and_save_cell_cluster_masks(\n",
    "    fovs=validation_fovs,\n",
    "    base_dir=output_dir,\n",
    "    save_dir=os.path.join(output_dir, cell_output_dir, from_meta_config['method_dir']),\n",
    "    seg_dir=masks_dir,\n",
    "    cell_data=from_meta_config['cluster_counts_size_norm'],\n",
    "    seg_suffix=seg_suffix,\n",
    "    sub_dir='cell_masks',\n",
    "    name_suffix='_cell_mask'\n",
    ")"
   ]
  },
  {
   "cell_type": "code",
   "execution_count": null,
   "metadata": {},
   "outputs": [],
   "source": [
    "for cell_fov in validation_fovs:\n",
    "    cell_cluster_mask = load_utils.load_imgs_from_dir(\n",
    "        data_dir = os.path.join(output_dir, cell_output_dir, from_meta_config['method_dir'], \"cell_masks\"),\n",
    "        files=[cell_fov + \"_cell_mask.tiff\"],\n",
    "        trim_suffix=\"_cell_mask\",\n",
    "        match_substring=\"_cell_mask\",\n",
    "        xr_dim_name=\"cell_mask\",\n",
    "        xr_channel_names=None,\n",
    "    )\n",
    "\n",
    "    plot_utils.plot_pixel_cell_cluster_overlay(\n",
    "        cell_cluster_mask,\n",
    "        [cell_fov],\n",
    "        os.path.join(output_dir, from_meta_config['cell_meta_cluster_remap_name']),\n",
    "        metacluster_colors=raw_cmap,\n",
    "        cluster_type='cell'\n",
    "    )"
   ]
  },
  {
   "cell_type": "markdown",
   "metadata": {},
   "source": [
    "### 4.5: Create phenotype prediction file"
   ]
  },
  {
   "cell_type": "code",
   "execution_count": null,
   "metadata": {},
   "outputs": [],
   "source": [
    "def merge_with_results(cell_table, cluster_counts_size_norm, appendix=''):\n",
    "    results = cluster_counts_size_norm.rename(\n",
    "        {'segmentation_label': 'label'}, axis=1\n",
    "    )\n",
    "\n",
    "    # merge the cell table with the consensus data to retrieve the meta clusters\n",
    "    cell_table_merged = cell_table.merge(\n",
    "        results, how='left', on=['fov', 'label']\n",
    "    )\n",
    "    \n",
    "    # rename merged table results columns\n",
    "    cell_table_merged = cell_table_merged.rename({\n",
    "        'cell_som_cluster': f'pred_som_cluster{appendix}',\n",
    "        'cell_meta_cluster_rename': f'pred_meta_cluster{appendix}'\n",
    "    }, axis=1)\n",
    "    \n",
    "    return cell_table_merged"
   ]
  },
  {
   "cell_type": "code",
   "execution_count": null,
   "metadata": {},
   "outputs": [],
   "source": [
    "cell_table = pd.read_csv(cell_table_path, dtype={\n",
    "        'fov': str,\n",
    "})\n",
    "\n",
    "# merge results from PIXEL SOM clusters\n",
    "# cell_table = merge_with_results(cell_table, from_som_config['cluster_counts_size_norm'], '_from_pixel_som')\n",
    "\n",
    "# merge results from PIXEL META clusters\n",
    "cell_table = merge_with_results(cell_table, from_meta_config['cluster_counts_size_norm'], '_from_pixel_meta')\n",
    "\n",
    "# subset on just the cell table columns plus the meta cluster rename column\n",
    "cell_table = cell_table[[\n",
    "    'fov', 'label', 'cell_type', \n",
    "    'pred_som_cluster_from_pixel_meta', 'pred_meta_cluster_from_pixel_meta'\n",
    "]]\n",
    "\n",
    "# rename merged table columns for simplicity\n",
    "cell_table = cell_table.rename({\n",
    "    'fov': 'sample_id',\n",
    "    'label': 'object_id',\n",
    "    'cell_type': 'label',\n",
    "    'pred_som_cluster_from_pixel_meta': 'pred_som_cluster',\n",
    "    'pred_meta_cluster_from_pixel_meta': 'pred_meta_cluster'\n",
    "    }, axis=1)\n",
    "\n",
    "\n",
    "cell_table.to_csv(os.path.join(output_dir, 'pixie_results.csv'), index=False)"
   ]
  },
  {
   "cell_type": "markdown",
   "metadata": {},
   "source": [
    "### 4.6: Save the full results of Pixie cell clustering"
   ]
  },
  {
   "cell_type": "markdown",
   "metadata": {},
   "source": [
    "`cluster_counts_size_norm` with the SOM, meta, and renamed meta cluster labels, is saved to `cluster_counts_size_norm_name` as a `.feather` file."
   ]
  },
  {
   "cell_type": "code",
   "execution_count": null,
   "metadata": {
    "tags": [
     "pixie_cell_save"
    ]
   },
   "outputs": [],
   "source": [
    "for config in configs:\n",
    "    feather.write_dataframe(\n",
    "        cluster_counts_size_norm,\n",
    "        os.path.join(output_dir, config['cluster_counts_size_norm_name']),\n",
    "        compression='uncompressed'\n",
    "    )"
   ]
  },
  {
   "cell_type": "markdown",
   "metadata": {},
   "source": [
    "### 4.7: Save images for Mantis Viewer\n",
    "\n",
    "Mantis Viewer is a visualization tool for multi-dimensional imaging in pathology."
   ]
  },
  {
   "cell_type": "code",
   "execution_count": null,
   "metadata": {
    "tags": [
     "cell_mantis_project"
    ]
   },
   "outputs": [],
   "source": [
    "for config in configs:\n",
    "    plot_utils.create_mantis_dir(\n",
    "        fovs=validation_fovs,\n",
    "        mantis_project_path=os.path.join(output_dir, cell_output_dir, config['method_dir'], \"mantis\"),\n",
    "        img_data_path=tiff_dir,\n",
    "        mask_output_dir=os.path.join(output_dir, cell_output_dir, config['method_dir'], \"cell_masks\"),\n",
    "        mapping = os.path.join(output_dir, config['cell_meta_cluster_remap_name']),\n",
    "        seg_dir=masks_dir,\n",
    "        cluster_type='cell',\n",
    "        mask_suffix=\"_cell_mask\",\n",
    "        seg_suffix_name=seg_suffix\n",
    "    )"
   ]
  }
 ],
 "metadata": {
  "celltoolbar": "Tags",
  "kernelspec": {
   "display_name": "pixie",
   "language": "python",
   "name": "pixie"
  },
  "language_info": {
   "codemirror_mode": {
    "name": "ipython",
    "version": 3
   },
   "file_extension": ".py",
   "mimetype": "text/x-python",
   "name": "python",
   "nbconvert_exporter": "python",
   "pygments_lexer": "ipython3",
   "version": "3.8.16"
  },
  "vscode": {
   "interpreter": {
    "hash": "b0ac63cc785e7c4cb24da0642dbfe09cfb2d314979108d7192228f9c45902a86"
   }
  }
 },
 "nbformat": 4,
 "nbformat_minor": 4
}
